{
 "cells": [
  {
   "cell_type": "markdown",
   "metadata": {},
   "source": [
    "# \"Arm Research Summit 2018 Talk\"\n",
    "> \"Our presentation on modular neural network ensembles.\"\n",
    "\n",
    "- toc: false\n",
    "- branch: master\n",
    "- badges: false\n",
    "- comments: false\n",
    "- categories: [presentation, deep learning]\n",
    "- hide: false\n",
    "- search_exclude: false\n",
    "- image: images/blog_posts/arm_summit_2018.png"
   ]
  },
  {
   "cell_type": "markdown",
   "metadata": {},
   "source": [
    "> youtube https://www.youtube.com/watch?v=VfZ1rs4fJjA&t=3703"
   ]
  },
  {
   "cell_type": "markdown",
   "metadata": {},
   "source": [
    "[Gavin Brown](http://www.cs.man.ac.uk/~gbrown/) and I gave a talk today at the 2018 Arm Research Summit. This is a talk about our work with [Mikel Luján](http://apt.cs.manchester.ac.uk/people/mlujan/), [Henry Reeve](https://www.cs.bham.ac.uk/~reevehwj/), and Charles Reynolds in training modular ensembles of neural networks.\n",
    "\n",
    "This was a machine learning talk aimed at a non-machine learning audience, and we touched on the robustness of the trained ensembles to dropping out models and the largely decoupled nature of the training, which allows parallel training of the ensemble with low communication overheads."
   ]
  }
 ],
 "metadata": {
  "kernelspec": {
   "display_name": "Python 3",
   "language": "python",
   "name": "python3"
  },
  "language_info": {
   "codemirror_mode": {
    "name": "ipython",
    "version": 3
   },
   "file_extension": ".py",
   "mimetype": "text/x-python",
   "name": "python",
   "nbconvert_exporter": "python",
   "pygments_lexer": "ipython3",
   "version": "3.6.9"
  }
 },
 "nbformat": 4,
 "nbformat_minor": 4
}
