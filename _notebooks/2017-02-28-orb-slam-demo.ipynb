{
 "cells": [
  {
   "cell_type": "markdown",
   "metadata": {},
   "source": [
    "# \"Multiview Object Detection using ORB SLAM\"\n",
    "> \"An early demo of some work on combining semantic predictions from multiple views.\"\n",
    "\n",
    "- toc: false\n",
    "- branch: master\n",
    "- badges: false\n",
    "- comments: false\n",
    "- categories: [SLAM, deep learning]\n",
    "- hide: false\n",
    "- search_exclude: false\n",
    "- image: images/blog_posts/orb_slam_demo.png"
   ]
  },
  {
   "cell_type": "markdown",
   "metadata": {},
   "source": [
    "> youtube: https://youtu.be/mOZB-i1QnN8"
   ]
  },
  {
   "cell_type": "markdown",
   "metadata": {},
   "source": [
    "The above video is an early attempt to aggregate the predictions of an object detection system ([darknet/YOLO](https://pjreddie.com/darknet/yolo/)) from multiple views using information available in a SLAM system ([ORB-SLAM2](https://github.com/raulmur/ORB_SLAM2)) operating on the same data.\n",
    "\n",
    "The video shows the (modified) output windows of the ORB-SLAM system. The bottom window displays each frame of the video being operated on. Overlaid on this window are the bounding boxes and class labels of object predictions coming out of YOLO as it operates on each frame independently. Also shown are the ORB features used by the SLAM system (dark green). The class label of a bounding box is associated with every feature it contains.\n",
    "\n",
    "The top window displays the 3D model produced by the SLAM system. Currently, the aggregate class label of each point in the 3D model is determined by voting; each point in the model has access to each frame in which it has appeared, and also to the corresponding feature in that frame. The class label that occurs most often amongst the corresponding features of a point 'wins', and that label is associated with the 3D point. (Whenever a feature corresponding to a point appears outside of any bounding box, that counts as a vote for it being \"not an object.\")\n",
    "\n",
    "It seems clear that even this simple aggregation method leads to more robust predictions."
   ]
  }
 ],
 "metadata": {
  "kernelspec": {
   "display_name": "Python 3",
   "language": "python",
   "name": "python3"
  },
  "language_info": {
   "codemirror_mode": {
    "name": "ipython",
    "version": 3
   },
   "file_extension": ".py",
   "mimetype": "text/x-python",
   "name": "python",
   "nbconvert_exporter": "python",
   "pygments_lexer": "ipython3",
   "version": "3.6.9"
  }
 },
 "nbformat": 4,
 "nbformat_minor": 4
}
