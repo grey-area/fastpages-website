{
 "cells": [
  {
   "cell_type": "markdown",
   "metadata": {},
   "source": [
    "# \"Distributed Multinomial Sampling\"\n",
    "> \"A distributed algorithm for sampling from a multinomial distribution in O(log d) time, where d is the number of outcomes.\"\n",
    "\n",
    "- toc: true\n",
    "- branch: master\n",
    "- badges: false\n",
    "- comments: false\n",
    "- categories: [probability, sampling, distributed]\n",
    "- hide: false\n",
    "- search_exclude: false\n",
    "- image: images/blog_posts/distributed_multinomial_sampling.png\n",
    "- redirect_from: blog/distributed_multinomial"
   ]
  },
  {
   "cell_type": "markdown",
   "metadata": {
    "collapsed": true
   },
   "source": [
    "Suppose you want to sample from the multinomial distribution, that is, the binomial distribution generalized to more than two outcomes.\n",
    "\n",
    "The distribution is specified with an integer parameter $N$, specifying the number of independent trials, and a discrete probability vector $\\bf p$ of length $d$ specifying the probability of each outcome in each trial. It is the probability distribution of the number of each of the $d$ possible outcomes.\n",
    "\n",
    "## The sequential solution\n",
    "\n",
    "Typically, you'd sample from the multinomial by doing repeated binomial sampling; sample from the binomial to determine the number of trials resulting in outcome number 1, i.e., sample $n_1 \\sim \\text{Bin}(N, p_1)$. Then subtract $n_1$ from the number of trials $N$ and sample from the binomial for the second outcome, $n_2 \\sim \\text{Bin}(N-n_1, p_2)$, and so on, as follows."
   ]
  },
  {
   "cell_type": "code",
   "execution_count": 4,
   "metadata": {},
   "outputs": [],
   "source": [
    "#hide\n",
    "import numpy as np"
   ]
  },
  {
   "cell_type": "code",
   "execution_count": 5,
   "metadata": {},
   "outputs": [],
   "source": [
    "def multinomial_sample(N, ps):\n",
    "    N1 = N\n",
    "    ns = np.zeros_like(ps)\n",
    "\n",
    "    for p_i in range(len(ps)):\n",
    "        n = np.random.binomial(N1, ps[p_i] / ps[p_i:])\n",
    "        ns[p_i] = n\n",
    "        N1 -= n\n",
    "\n",
    "    return ns"
   ]
  },
  {
   "cell_type": "markdown",
   "metadata": {},
   "source": [
    "How long is that going to take? If you sample from a binomial using NumPy or R, which algorithm is used depends on the parameters. If $N p \\le 30$, then an inverse transformation algorithm is used, which takes $\\text{O}(N \\text{min}(p, 1-p))$. If $N p > 30$, an algorithm called BTPE, which is an approximate sequential acceptance/rejection algorithm, is used. This algorithm is sublinear time, and is \"approximately constant time\" for $N p > 30$ {% fn 1 %}.\n",
    "\n",
    "Let's say that binomial sampling is $\\text{O}(1)$. Then multinomial sampling by sequential binomial sampling is $\\text{O}(d)$, where $d$ is the number of possible outcomes.\n",
    "\n",
    "{{ 'Binomial random variate generation, Kachitvichyanukul and Schmeiser.' | fndetail: 1 }}"
   ]
  },
  {
   "cell_type": "markdown",
   "metadata": {},
   "source": [
    "## Can we do better?\n",
    "\n",
    "What about parallelising the work? Our sequential binomial sampling method doesn't seem very parallelisable, so let's think of a way that does. Another approach to determine the number of trials resulting in the $i$th outcome is to repeatedly bisect the possible outcomes, using binomial sampling each time to sample the number of trials resulting in an outcome in the same half as the outcome we're interested in.\n",
    "\n",
    "E.g., suppose we have four possible outcomes, with probabilities [0.4, 0.1, 0.2, 0.3], and we want the number of trials resulting in the second outcome. First we sample from the binomial to determine how many trials result in any of the first half of outcomes (with probability 0.5), then we sample from the binomial again to determine the number of those that result in the second outcome (with probability $0.1/(0.4+0.1) = 0.2$). To sample the number of outcomes $i$, for any single $i$, in this way takes $\\text{O}(\\log d)$.\n",
    "\n",
    "## Consistency\n",
    "\n",
    "Now it's just a matter of assigning each outcome to a separate node/computer and doing the work in parallel, right? Not quite. There's quite a bit of shared computation going on between nodes, and they'd better agree on their answers. For example, all nodes sampling for the first half of the possible outcomes first sample from a binomial to determine the number of trials that lead to outcomes in that half, and they should all get the same answer. If they don't, we won't be collectively sampling from a multinomial and our total number of trials, when we sum over the outcomes, won't sum to $N$.\n",
    "\n",
    "There are two solutions: communication or ensuring consistent random number generator (RNG) states. The first solution would have a single node sample the number of trials leading to one of the first half of outcomes. It would then share this number with a second node, and the two of them would bisect the outcomes again, communicate the results to another two nodes, and so on.\n",
    "\n",
    "I'll focus here on the consistent RNG solution. The idea is that when any two nodes are asking *exactly the same question* then *their RNGs should be in the same state*. Since in my examples I'll be using NumPy's RNG, I'll be explicitly setting its seed algorithmically. **This is probably a bad idea**. Ideally, you'd be using an RNG that allows you to skip ahead by $n$ states in constant time."
   ]
  },
  {
   "cell_type": "code",
   "execution_count": 7,
   "metadata": {},
   "outputs": [],
   "source": [
    "#collapse-show\n",
    "# Sample the number of N trials resulting in outcome leaf_index with probability ps[leaf_index]\n",
    "# by repeatedly bisecting the possible outcomes and doing binomial sampling\n",
    "def multinomial_sample2(N, ps, leaf_index, branch_index=0, base_seed=0):\n",
    "    if ps.size == 1:\n",
    "        return N\n",
    "\n",
    "    # Split the outcomes in half\n",
    "    split_index = int(np.ceil(0.5 * ps.size))\n",
    "    # Compute the probability that a trial results in the left half of the outcomes\n",
    "    left_p = np.sum(ps[:split_index])\n",
    "\n",
    "    # Set the RNG such that the RNG state depends on where we are in the outcome bisection tree\n",
    "    # i.e., using the current branch index\n",
    "    # Algorithmically setting the NumPy RNG state is **probably a bad idea**\n",
    "    np.random.seed(base_seed + branch_index)\n",
    "\n",
    "    # Sample from the binomial to determine the number of trials resulting in one of the outcomes on the left\n",
    "    left_N = np.random.binomial(N, left_p)\n",
    "\n",
    "    # Recursively call this function, with parameters depending on if the leaf_index outcome is on the left or the right\n",
    "    # Branches are numbered depth first, so that if we take the left branch then the next branch index is the current + 1\n",
    "    # and if we take the right branch then the next branch index is the current + 1 + #branch indices in the left subtree\n",
    "    if leaf_index >= split_index:\n",
    "        return multinomial_sample2(N - left_N, ps[split_index:]/(1-left_p), leaf_index - split_index, branch_index + split_index, base_seed)\n",
    "    else:\n",
    "        return multinomial_sample2(left_N, ps[:split_index]/left_p, leaf_index, branch_index + 1, base_seed)\n"
   ]
  },
  {
   "cell_type": "markdown",
   "metadata": {},
   "source": [
    "The following shows the algorithm in action. The boxplots indicate the count for each outcome over a number of trials, while the coloured dots indicate the expected values."
   ]
  },
  {
   "cell_type": "code",
   "execution_count": 8,
   "metadata": {},
   "outputs": [],
   "source": [
    "#hide\n",
    "%matplotlib inline\n",
    "import matplotlib\n",
    "import matplotlib.pyplot as plt"
   ]
  },
  {
   "cell_type": "code",
   "execution_count": 9,
   "metadata": {},
   "outputs": [],
   "source": [
    "N = 1000\n",
    "d = 10\n",
    "ps = np.random.random(size=d)\n",
    "ps /= np.sum(ps)\n",
    "trials = 1000\n",
    "\n",
    "outcome_counts = np.array([[multinomial_sample2(N, ps, i, j) for i in range(d)] for j in range(trials)])"
   ]
  },
  {
   "cell_type": "code",
   "execution_count": 10,
   "metadata": {},
   "outputs": [
    {
     "name": "stdout",
     "output_type": "stream",
     "text": [
      "Total number of events counted = 1000 per trial\n"
     ]
    },
    {
     "data": {
      "image/png": "[encoded data removed]",
      "text/plain": [
       "<Figure size 864x576 with 1 Axes>"
      ]
     },
     "metadata": {
      "needs_background": "light"
     },
     "output_type": "display_data"
    }
   ],
   "source": [
    "figure = plt.figure(figsize=(12,8))\n",
    "plt.boxplot(outcome_counts);\n",
    "plt.scatter(np.arange(1, d+1, 1), N*ps, c=\"r\", s=50);\n",
    "plt.xlabel(\"Outcome\");\n",
    "plt.ylabel(\"Count\");\n",
    "\n",
    "print(\"Total number of events counted = {} per trial\".format(int(np.sum(outcome_counts) / trials)))"
   ]
  },
  {
   "cell_type": "markdown",
   "metadata": {},
   "source": [
    "## Equal probability case\n",
    "\n",
    "One problem with the above is that it requires us to compute the sum of the probabilities on the left hand branch each time we bisect the possible outcomes. This effectively adds an $\\text{O}(d)$ operation for each node. For the special case that each of the $d$ possible outcomes has the same probability, then we don't have to perform this sum and can do the following instead. (This is also useful if the *majority* of outcomes have the same probability.)"
   ]
  },
  {
   "cell_type": "code",
   "execution_count": 11,
   "metadata": {},
   "outputs": [],
   "source": [
    "#collapse-show\n",
    "# Sample the number of N trials resulting in outcome leaf_index, where each outcome has the same probability,\n",
    "# by repeatedly bisecting the possible outcomes and doing binomial sampling\n",
    "def multinomial_sample3(N, d, leaf_index, branch_index=0, base_seed=0):\n",
    "    if d == 1:\n",
    "        return N\n",
    "\n",
    "    # Split the outcomes in half\n",
    "    split_index = int(np.ceil(0.5 * d))\n",
    "    # Compute the probability that a trial results in the left half of the outcomes\n",
    "    left_p = float(split_index) / d\n",
    "\n",
    "    # Set the RNG such that the RNG state depends on where we are in the outcome bisection tree\n",
    "    # i.e., using the current branch index\n",
    "    # Algorithmically setting the NumPy RNG state is **probably a bad idea**\n",
    "    np.random.seed(base_seed + branch_index)\n",
    "\n",
    "    # Sample from the binomial to determine the number of trials resulting in one of the outcomes on the left\n",
    "    left_N = np.random.binomial(N, left_p)\n",
    "\n",
    "    # Recursively call this function, with parameters depending on if the leaf_index outcome is on the left or the right\n",
    "    # Branches are numbered depth first, so that if we take the left branch then the next branch index is the current + 1\n",
    "    # and if we take the right branch then the next branch index is the current + 1 + #branch indices in the left subtree\n",
    "    if leaf_index >= split_index:\n",
    "        return multinomial_sample3(N - left_N, d-split_index, leaf_index - split_index, branch_index + split_index, base_seed)\n",
    "    else:\n",
    "        return multinomial_sample3(left_N, split_index, leaf_index, branch_index + 1, base_seed)"
   ]
  },
  {
   "cell_type": "code",
   "execution_count": 12,
   "metadata": {},
   "outputs": [
    {
     "name": "stdout",
     "output_type": "stream",
     "text": [
      "Total number of events counted = 1000 per trial\n"
     ]
    },
    {
     "data": {
      "image/png": "[encoded data removed]",
      "text/plain": [
       "<Figure size 864x576 with 1 Axes>"
      ]
     },
     "metadata": {
      "needs_background": "light"
     },
     "output_type": "display_data"
    }
   ],
   "source": [
    "N = 1000\n",
    "d = 10\n",
    "trials = 1000\n",
    "\n",
    "outcome_counts = np.array([[multinomial_sample3(N, d, i, j) for i in range(d)] for j in range(trials)])\n",
    "\n",
    "figure = plt.figure(figsize=(12,8))\n",
    "plt.boxplot(outcome_counts);\n",
    "plt.scatter(np.arange(1, d+1, 1), N/float(d) * np.ones(d), c=\"r\", s=50);\n",
    "plt.xlabel(\"Outcome\");\n",
    "plt.ylabel(\"Count\");\n",
    "\n",
    "print(\"Total number of events counted = {} per trial\".format(int(np.sum(outcome_counts) / trials)))"
   ]
  },
  {
   "cell_type": "markdown",
   "metadata": {},
   "source": [
    "## When might this be useful?\n",
    "\n",
    "The above lets you replace an $\\text{O}(d)$ time sampling algorithm with a $\\text{O}(d \\log d)$ one that allows the work to be distributed amongst $d$ independent nodes, allowing the sampling to be done in $\\text{O}(\\log d)$ time.\n",
    "\n",
    "Is this likely to be practically useful? If you need to sample from a multinomial where $d$, the number of possible outcomes, is so large that an algorithm linear in $d$ is too slow, well, you're unlikely to have a $d$-processor machine or a $d$-machine cluster available to you.\n",
    "\n",
    "If you have $m$ processing nodes available, $m < d$, then you can split the outcomes into $m$ blocks of $d/m$, and use the above algorithm to sample the number of trials leading to an outcome in each of the blocks in $\\text{O}(\\log m)$ time. You can then use repeated binomial sampling within each node to sample the number of trials for each outcome in that block in $\\text{O}(d/m)$ time. Since for $d >> m$, the work is going to be dominated by the $\\text{O}(d/m)$ part, this effectively divides the sampling time by the number of nodes."
   ]
  }
 ],
 "metadata": {
  "kernelspec": {
   "display_name": "Python 3",
   "language": "python",
   "name": "python3"
  },
  "language_info": {
   "codemirror_mode": {
    "name": "ipython",
    "version": 3
   },
   "file_extension": ".py",
   "mimetype": "text/x-python",
   "name": "python",
   "nbconvert_exporter": "python",
   "pygments_lexer": "ipython3",
   "version": "3.6.9"
  }
 },
 "nbformat": 4,
 "nbformat_minor": 2
}
